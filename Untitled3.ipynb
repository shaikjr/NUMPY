{
  "nbformat": 4,
  "nbformat_minor": 0,
  "metadata": {
    "colab": {
      "provenance": []
    },
    "kernelspec": {
      "name": "python3",
      "display_name": "Python 3"
    },
    "language_info": {
      "name": "python"
    }
  },
  "cells": [
    {
      "cell_type": "code",
      "execution_count": null,
      "metadata": {
        "id": "jE21zyDTYv6I"
      },
      "outputs": [],
      "source": [
        "import numpy as np\n"
      ]
    },
    {
      "cell_type": "markdown",
      "source": [
        "# one dimension array"
      ],
      "metadata": {
        "id": "zz72wVCBbgj6"
      }
    },
    {
      "cell_type": "code",
      "source": [
        "a=np.array([1,2,3,4,5])\n",
        "a"
      ],
      "metadata": {
        "colab": {
          "base_uri": "https://localhost:8080/"
        },
        "id": "o4RoMSCBblmo",
        "outputId": "e3dbb249-7112-46a3-bbcf-69b1872eff2c"
      },
      "execution_count": null,
      "outputs": [
        {
          "output_type": "execute_result",
          "data": {
            "text/plain": [
              "array([1, 2, 3, 4, 5])"
            ]
          },
          "metadata": {},
          "execution_count": 3
        }
      ]
    },
    {
      "cell_type": "code",
      "source": [
        "b=np.array([6,7,8,9,10])\n",
        "b"
      ],
      "metadata": {
        "colab": {
          "base_uri": "https://localhost:8080/"
        },
        "id": "1ovAqL32cCsz",
        "outputId": "4950d98c-36ef-4502-cbe8-41ceb68ad3b4"
      },
      "execution_count": null,
      "outputs": [
        {
          "output_type": "execute_result",
          "data": {
            "text/plain": [
              "array([ 6,  7,  8,  9, 10])"
            ]
          },
          "metadata": {},
          "execution_count": 4
        }
      ]
    },
    {
      "cell_type": "markdown",
      "source": [
        "# two dimension array"
      ],
      "metadata": {
        "id": "5Nbx_oLQcOcj"
      }
    },
    {
      "cell_type": "code",
      "source": [
        "c=np.array([[1,2,3,4],[6,7,8,9]])\n",
        "c"
      ],
      "metadata": {
        "colab": {
          "base_uri": "https://localhost:8080/"
        },
        "id": "LmYzpmp3cSHr",
        "outputId": "e4fba122-763d-4c83-e8cc-3fb30296b99b"
      },
      "execution_count": null,
      "outputs": [
        {
          "output_type": "execute_result",
          "data": {
            "text/plain": [
              "array([[1, 2, 3, 4],\n",
              "       [6, 7, 8, 9]])"
            ]
          },
          "metadata": {},
          "execution_count": 10
        }
      ]
    },
    {
      "cell_type": "code",
      "source": [
        "d=np.array([[10,11,12,13],[14,15,16,17]])\n",
        "d"
      ],
      "metadata": {
        "colab": {
          "base_uri": "https://localhost:8080/"
        },
        "id": "oFwNVmkAcel1",
        "outputId": "7c77f492-632a-4513-aed5-0033c29aec9d"
      },
      "execution_count": null,
      "outputs": [
        {
          "output_type": "execute_result",
          "data": {
            "text/plain": [
              "array([[10, 11, 12, 13],\n",
              "       [14, 15, 16, 17]])"
            ]
          },
          "metadata": {},
          "execution_count": 11
        }
      ]
    },
    {
      "cell_type": "markdown",
      "source": [
        "# three dimensionality array"
      ],
      "metadata": {
        "id": "xDRU8rfScy9M"
      }
    },
    {
      "cell_type": "code",
      "source": [
        "e=np.array([[20,21,22,23],[24,25,26,27],[28,29,30,31]])\n",
        "e"
      ],
      "metadata": {
        "colab": {
          "base_uri": "https://localhost:8080/"
        },
        "id": "tcmhou_Gc6XM",
        "outputId": "48427f80-bc25-4ebc-c833-81bac81e9ca7"
      },
      "execution_count": null,
      "outputs": [
        {
          "output_type": "execute_result",
          "data": {
            "text/plain": [
              "array([[20, 21, 22, 23],\n",
              "       [24, 25, 26, 27],\n",
              "       [28, 29, 30, 31]])"
            ]
          },
          "metadata": {},
          "execution_count": 12
        }
      ]
    },
    {
      "cell_type": "code",
      "source": [
        "f=np.array([[32,33,34,35],[36,37,38,39],[40,41,42,43]])\n",
        "f"
      ],
      "metadata": {
        "colab": {
          "base_uri": "https://localhost:8080/"
        },
        "id": "JxGLyt86c8Ti",
        "outputId": "2f499a7d-7086-4e1b-e484-b22f1d8c000f"
      },
      "execution_count": null,
      "outputs": [
        {
          "output_type": "execute_result",
          "data": {
            "text/plain": [
              "array([[32, 33, 34, 35],\n",
              "       [36, 37, 38, 39],\n",
              "       [40, 41, 42, 43]])"
            ]
          },
          "metadata": {},
          "execution_count": 13
        }
      ]
    },
    {
      "cell_type": "markdown",
      "source": [
        "#checking array dimensions"
      ],
      "metadata": {
        "id": "Yx5zH1LAiZvi"
      }
    },
    {
      "cell_type": "markdown",
      "source": [
        " **for one dimension**"
      ],
      "metadata": {
        "id": "tAtv9khQj85t"
      }
    },
    {
      "cell_type": "code",
      "source": [
        "a.ndim"
      ],
      "metadata": {
        "colab": {
          "base_uri": "https://localhost:8080/"
        },
        "id": "xHrPo_N2ibby",
        "outputId": "c20a2a8c-e2aa-4514-e7b5-965a3b8f10ec"
      },
      "execution_count": null,
      "outputs": [
        {
          "output_type": "execute_result",
          "data": {
            "text/plain": [
              "1"
            ]
          },
          "metadata": {},
          "execution_count": 21
        }
      ]
    },
    {
      "cell_type": "markdown",
      "source": [
        "**for two dimension**"
      ],
      "metadata": {
        "id": "h7j3q2mrkEck"
      }
    },
    {
      "cell_type": "code",
      "source": [
        "c.ndim\n"
      ],
      "metadata": {
        "colab": {
          "base_uri": "https://localhost:8080/"
        },
        "id": "TvoKzZ9Hiomr",
        "outputId": "f8aef316-44e6-4291-d090-ca860acb5db3"
      },
      "execution_count": null,
      "outputs": [
        {
          "output_type": "execute_result",
          "data": {
            "text/plain": [
              "2"
            ]
          },
          "metadata": {},
          "execution_count": 20
        }
      ]
    },
    {
      "cell_type": "markdown",
      "source": [
        "**for three dimension**"
      ],
      "metadata": {
        "id": "cAyw3RpZkHIN"
      }
    },
    {
      "cell_type": "code",
      "source": [
        "e.ndim"
      ],
      "metadata": {
        "colab": {
          "base_uri": "https://localhost:8080/"
        },
        "id": "msFjLF_pip53",
        "outputId": "ab13d2e4-1562-45a9-d3e0-5dce1430f7fa"
      },
      "execution_count": null,
      "outputs": [
        {
          "output_type": "execute_result",
          "data": {
            "text/plain": [
              "2"
            ]
          },
          "metadata": {},
          "execution_count": 22
        }
      ]
    },
    {
      "cell_type": "markdown",
      "source": [
        "#linspace function"
      ],
      "metadata": {
        "id": "kYGP24GklMm5"
      }
    },
    {
      "cell_type": "code",
      "source": [
        "g= np.linspace(0,10,5)\n",
        "g"
      ],
      "metadata": {
        "colab": {
          "base_uri": "https://localhost:8080/"
        },
        "id": "6HzBe7rrlOCB",
        "outputId": "7e7c5e86-7736-4762-ae1e-6ade20ac705d"
      },
      "execution_count": null,
      "outputs": [
        {
          "output_type": "execute_result",
          "data": {
            "text/plain": [
              "array([ 0. ,  2.5,  5. ,  7.5, 10. ])"
            ]
          },
          "metadata": {},
          "execution_count": 23
        }
      ]
    },
    {
      "cell_type": "markdown",
      "source": [
        "#len function"
      ],
      "metadata": {
        "id": "3iJvCT7Dl838"
      }
    },
    {
      "cell_type": "code",
      "source": [
        "len(b)"
      ],
      "metadata": {
        "colab": {
          "base_uri": "https://localhost:8080/"
        },
        "id": "eTij7uAzmD-6",
        "outputId": "4a6f8ad3-56ec-464e-d96f-8303d4d78c86"
      },
      "execution_count": null,
      "outputs": [
        {
          "output_type": "execute_result",
          "data": {
            "text/plain": [
              "5"
            ]
          },
          "metadata": {},
          "execution_count": 45
        }
      ]
    },
    {
      "cell_type": "markdown",
      "source": [
        "#shape function"
      ],
      "metadata": {
        "id": "VmqrJypZmHE8"
      }
    },
    {
      "cell_type": "code",
      "source": [
        "d.shape"
      ],
      "metadata": {
        "colab": {
          "base_uri": "https://localhost:8080/"
        },
        "id": "Z0SwRAeOmLQP",
        "outputId": "d832d3af-b989-498d-e02e-129f64216ba1"
      },
      "execution_count": null,
      "outputs": [
        {
          "output_type": "execute_result",
          "data": {
            "text/plain": [
              "(2, 4)"
            ]
          },
          "metadata": {},
          "execution_count": 26
        }
      ]
    },
    {
      "cell_type": "markdown",
      "source": [
        "#diag function"
      ],
      "metadata": {
        "id": "CU9s4uojmR0Q"
      }
    },
    {
      "cell_type": "code",
      "source": [
        "h=np.diag(a)\n",
        "h"
      ],
      "metadata": {
        "colab": {
          "base_uri": "https://localhost:8080/"
        },
        "id": "ZRmlcc2XmYgt",
        "outputId": "7f3d9253-ca01-4874-a061-16cbd58bab92"
      },
      "execution_count": null,
      "outputs": [
        {
          "output_type": "execute_result",
          "data": {
            "text/plain": [
              "array([[list([1, 2, 3, 4, 5]), 0],\n",
              "       [0, list([6, 7, 8, 9])]], dtype=object)"
            ]
          },
          "metadata": {},
          "execution_count": 27
        }
      ]
    },
    {
      "cell_type": "markdown",
      "source": [
        "#ones function"
      ],
      "metadata": {
        "id": "XOsKKpnVmk3Q"
      }
    },
    {
      "cell_type": "code",
      "source": [
        "j=np.ones(3)\n",
        "j"
      ],
      "metadata": {
        "colab": {
          "base_uri": "https://localhost:8080/"
        },
        "id": "waAAlS15mqr1",
        "outputId": "7289f24e-7400-4ee8-e952-5ee0880a4d67"
      },
      "execution_count": null,
      "outputs": [
        {
          "output_type": "execute_result",
          "data": {
            "text/plain": [
              "array([1., 1., 1.])"
            ]
          },
          "metadata": {},
          "execution_count": 30
        }
      ]
    },
    {
      "cell_type": "markdown",
      "source": [
        "#zeroes function"
      ],
      "metadata": {
        "id": "OpOY-d0rnAAA"
      }
    },
    {
      "cell_type": "code",
      "source": [
        "k=np.zeros((3,3,2))\n",
        "k"
      ],
      "metadata": {
        "colab": {
          "base_uri": "https://localhost:8080/"
        },
        "id": "UjmgMj9vnDPP",
        "outputId": "f409259c-aee4-4291-f788-1dda32660427"
      },
      "execution_count": null,
      "outputs": [
        {
          "output_type": "execute_result",
          "data": {
            "text/plain": [
              "array([[[0., 0.],\n",
              "        [0., 0.],\n",
              "        [0., 0.]],\n",
              "\n",
              "       [[0., 0.],\n",
              "        [0., 0.],\n",
              "        [0., 0.]],\n",
              "\n",
              "       [[0., 0.],\n",
              "        [0., 0.],\n",
              "        [0., 0.]]])"
            ]
          },
          "metadata": {},
          "execution_count": 36
        }
      ]
    },
    {
      "cell_type": "markdown",
      "source": [
        "#eye function"
      ],
      "metadata": {
        "id": "TGQAJojKnebi"
      }
    },
    {
      "cell_type": "code",
      "source": [
        "l=np.eye(3,3,3)\n",
        "l"
      ],
      "metadata": {
        "colab": {
          "base_uri": "https://localhost:8080/"
        },
        "id": "vNJl_OKTmj5t",
        "outputId": "c0671c09-4bd5-405e-8ec4-e93c6f9cbde8"
      },
      "execution_count": null,
      "outputs": [
        {
          "output_type": "execute_result",
          "data": {
            "text/plain": [
              "array([[0., 0., 0.],\n",
              "       [0., 0., 0.],\n",
              "       [0., 0., 0.]])"
            ]
          },
          "metadata": {},
          "execution_count": 38
        }
      ]
    },
    {
      "cell_type": "markdown",
      "source": [
        "#random function"
      ],
      "metadata": {
        "id": "MmNaob1vnsTk"
      }
    },
    {
      "cell_type": "code",
      "source": [
        "m=np.random.rand(5)\n",
        "m"
      ],
      "metadata": {
        "colab": {
          "base_uri": "https://localhost:8080/"
        },
        "id": "nQ6OaFmsnwUW",
        "outputId": "dcb69db7-beb2-41eb-9ce6-b8db1124d161"
      },
      "execution_count": null,
      "outputs": [
        {
          "output_type": "execute_result",
          "data": {
            "text/plain": [
              "array([0.11099819, 0.28336274, 0.98895881, 0.88966907, 0.97391655])"
            ]
          },
          "metadata": {},
          "execution_count": 41
        }
      ]
    },
    {
      "cell_type": "markdown",
      "source": [
        "#randint function"
      ],
      "metadata": {
        "id": "nkgVgzfin87d"
      }
    },
    {
      "cell_type": "code",
      "source": [
        "n=np.random.randint(1,10,3)\n",
        "n"
      ],
      "metadata": {
        "colab": {
          "base_uri": "https://localhost:8080/"
        },
        "id": "Yc8cEOYooCRY",
        "outputId": "d5a30a0d-7fe5-4770-99fb-d6b70fbe63d3"
      },
      "execution_count": null,
      "outputs": [
        {
          "output_type": "execute_result",
          "data": {
            "text/plain": [
              "array([1, 6, 4])"
            ]
          },
          "metadata": {},
          "execution_count": 44
        }
      ]
    },
    {
      "cell_type": "markdown",
      "source": [
        "#reshape function"
      ],
      "metadata": {
        "id": "PO8n9ph6s0_2"
      }
    },
    {
      "cell_type": "code",
      "source": [
        "o=np.arange(0,6).reshape(2,3)\n",
        "print(o)"
      ],
      "metadata": {
        "colab": {
          "base_uri": "https://localhost:8080/"
        },
        "id": "lPn4PZ8js0BV",
        "outputId": "dadf55bb-39c8-4fda-b7d5-d3ca3b478cdd"
      },
      "execution_count": null,
      "outputs": [
        {
          "output_type": "stream",
          "name": "stdout",
          "text": [
            "[[0 1 2]\n",
            " [3 4 5]]\n"
          ]
        }
      ]
    },
    {
      "cell_type": "markdown",
      "source": [
        "#mask function"
      ],
      "metadata": {
        "id": "UThxXysgtgnO"
      }
    },
    {
      "cell_type": "code",
      "source": [
        "p=np.random.randint(-101,20,10)\n",
        "p\n"
      ],
      "metadata": {
        "colab": {
          "base_uri": "https://localhost:8080/"
        },
        "id": "Y5TkgTFOthIs",
        "outputId": "a5304efe-6baf-4933-f890-1d47b3be70c5"
      },
      "execution_count": null,
      "outputs": [
        {
          "output_type": "execute_result",
          "data": {
            "text/plain": [
              "array([-19, -53,  17, -84,  15, -52, -96, -22, -12, -50])"
            ]
          },
          "metadata": {},
          "execution_count": 47
        }
      ]
    },
    {
      "cell_type": "code",
      "source": [
        "mask=(p%2==0)\n",
        "p[mask]"
      ],
      "metadata": {
        "colab": {
          "base_uri": "https://localhost:8080/"
        },
        "id": "FYWcVOlRtsav",
        "outputId": "dd74b738-d0fd-4d81-c80b-f3c361d47052"
      },
      "execution_count": null,
      "outputs": [
        {
          "output_type": "execute_result",
          "data": {
            "text/plain": [
              "array([-84, -52, -96, -22, -12, -50])"
            ]
          },
          "metadata": {},
          "execution_count": 50
        }
      ]
    },
    {
      "cell_type": "markdown",
      "source": [
        "#tile function"
      ],
      "metadata": {
        "id": "yV-hMq_7uRHW"
      }
    },
    {
      "cell_type": "code",
      "source": [
        "c=np.tile(np.arange(0,40,10),(3,2))\n",
        "print(c)"
      ],
      "metadata": {
        "colab": {
          "base_uri": "https://localhost:8080/"
        },
        "id": "g984yB9Qt0gC",
        "outputId": "0fa7574a-4fe1-4c1d-9498-0e28e9625957"
      },
      "execution_count": null,
      "outputs": [
        {
          "output_type": "stream",
          "name": "stdout",
          "text": [
            "[[ 0 10 20 30  0 10 20 30]\n",
            " [ 0 10 20 30  0 10 20 30]\n",
            " [ 0 10 20 30  0 10 20 30]]\n"
          ]
        }
      ]
    },
    {
      "cell_type": "markdown",
      "source": [
        "#ravel function"
      ],
      "metadata": {
        "id": "C4DXNTGrv-NZ"
      }
    },
    {
      "cell_type": "code",
      "source": [
        "print(b.ravel())"
      ],
      "metadata": {
        "colab": {
          "base_uri": "https://localhost:8080/"
        },
        "id": "ME8jpO1vv-kF",
        "outputId": "a0683e11-b592-4c73-f8dd-89b6181eac75"
      },
      "execution_count": null,
      "outputs": [
        {
          "output_type": "stream",
          "name": "stdout",
          "text": [
            "[ 6  7  8  9 10]\n"
          ]
        }
      ]
    },
    {
      "cell_type": "markdown",
      "source": [
        "#reshaping  function"
      ],
      "metadata": {
        "id": "tclvcBgGw31M"
      }
    },
    {
      "cell_type": "code",
      "source": [
        "r=np.arange(10)\n",
        "r.resize((5,))\n",
        "r"
      ],
      "metadata": {
        "colab": {
          "base_uri": "https://localhost:8080/"
        },
        "id": "o5fW2n0ew5jg",
        "outputId": "407839e2-1aaa-42a3-c226-815aedbff151"
      },
      "execution_count": null,
      "outputs": [
        {
          "output_type": "execute_result",
          "data": {
            "text/plain": [
              "array([0, 1, 2, 3, 4])"
            ]
          },
          "metadata": {},
          "execution_count": 56
        }
      ]
    },
    {
      "cell_type": "markdown",
      "source": [
        "#sort function"
      ],
      "metadata": {
        "id": "Mqeyt9SGxbDn"
      }
    },
    {
      "cell_type": "code",
      "source": [
        "v=np.sort(d,axis=1)\n",
        "v"
      ],
      "metadata": {
        "colab": {
          "base_uri": "https://localhost:8080/"
        },
        "id": "7lr3wnRvxkQ2",
        "outputId": "e6f13d35-9638-4d43-b38b-580642ad2998"
      },
      "execution_count": null,
      "outputs": [
        {
          "output_type": "execute_result",
          "data": {
            "text/plain": [
              "array([[10, 11, 12, 13],\n",
              "       [14, 15, 16, 17]])"
            ]
          },
          "metadata": {},
          "execution_count": 61
        }
      ]
    },
    {
      "cell_type": "markdown",
      "source": [
        "# write a numpy program to convert a list of numeric value into a one-dimensional numpy array\n",
        "[12.23,13.32,100,36.32]"
      ],
      "metadata": {
        "id": "pr50p37xx_Os"
      }
    },
    {
      "cell_type": "code",
      "source": [
        "s = [12.23,13.32,100,36.32]\n",
        "t = np.array(s)\n",
        "\n",
        "print(t)\n"
      ],
      "metadata": {
        "colab": {
          "base_uri": "https://localhost:8080/"
        },
        "id": "R02h3XHGyBE8",
        "outputId": "db08900f-985a-47c9-c3eb-201f0c120cec"
      },
      "execution_count": null,
      "outputs": [
        {
          "output_type": "stream",
          "name": "stdout",
          "text": [
            "[ 12.23  13.32 100.    36.32]\n"
          ]
        }
      ]
    },
    {
      "cell_type": "markdown",
      "source": [
        "#write a numpy program to create a 3x3 maritix with values ranging from 2 to 10"
      ],
      "metadata": {
        "id": "m4w_tYzEzFBH"
      }
    },
    {
      "cell_type": "code",
      "source": [
        "value = np.arange(2,11)\n",
        "nm = value.reshape(3,3)\n",
        "print(nm)"
      ],
      "metadata": {
        "id": "JPIi1QGwzGrU",
        "colab": {
          "base_uri": "https://localhost:8080/"
        },
        "outputId": "f36fd84f-14b5-4f08-d1c3-9e41953caddb"
      },
      "execution_count": null,
      "outputs": [
        {
          "output_type": "stream",
          "name": "stdout",
          "text": [
            "[[ 2  3  4]\n",
            " [ 5  6  7]\n",
            " [ 8  9 10]]\n"
          ]
        }
      ]
    },
    {
      "cell_type": "markdown",
      "source": [
        "# write a numpy progrm to display all the dates from 2023 march to 2023 april"
      ],
      "metadata": {
        "id": "KD9psJFWz6bH"
      }
    },
    {
      "cell_type": "code",
      "source": [
        "a=np.arange('2023-03','2023-04',dtype='datetime64[D]')\n",
        "print(a)"
      ],
      "metadata": {
        "id": "0k-1lhzMzg9R",
        "colab": {
          "base_uri": "https://localhost:8080/"
        },
        "outputId": "f928bd0e-52af-46aa-f5c1-fcf0ecc34550"
      },
      "execution_count": null,
      "outputs": [
        {
          "output_type": "stream",
          "name": "stdout",
          "text": [
            "['2023-03-01' '2023-03-02' '2023-03-03' '2023-03-04' '2023-03-05'\n",
            " '2023-03-06' '2023-03-07' '2023-03-08' '2023-03-09' '2023-03-10'\n",
            " '2023-03-11' '2023-03-12' '2023-03-13' '2023-03-14' '2023-03-15'\n",
            " '2023-03-16' '2023-03-17' '2023-03-18' '2023-03-19' '2023-03-20'\n",
            " '2023-03-21' '2023-03-22' '2023-03-23' '2023-03-24' '2023-03-25'\n",
            " '2023-03-26' '2023-03-27' '2023-03-28' '2023-03-29' '2023-03-30'\n",
            " '2023-03-31']\n"
          ]
        }
      ]
    },
    {
      "cell_type": "markdown",
      "source": [
        "# write a numpy progrm to generate six random integers between 10 to 30"
      ],
      "metadata": {
        "id": "WAhdnmvQ0ARm"
      }
    },
    {
      "cell_type": "code",
      "source": [
        "n = np.random.randint(10,30,6)\n",
        "print(n)"
      ],
      "metadata": {
        "id": "_1TN2A-H0CLA",
        "colab": {
          "base_uri": "https://localhost:8080/"
        },
        "outputId": "ee73b18b-9e12-4590-8611-436e55776f4f"
      },
      "execution_count": null,
      "outputs": [
        {
          "output_type": "stream",
          "name": "stdout",
          "text": [
            "[19 21 18 16 23 24]\n"
          ]
        }
      ]
    },
    {
      "cell_type": "markdown",
      "source": [
        "#write a numpy program to create 5x5 array random values and find the minimum and maximum and then sort it"
      ],
      "metadata": {
        "id": "H5yZTPL60D7q"
      }
    },
    {
      "cell_type": "code",
      "source": [
        "e=np.array([[20,21,22,23,45],[24,25,26,27,54],[28,29,30,31,65],[324,245,355,331,685],[328,245,355,331,456]])\n",
        "re = e.reshape(5,5)\n",
        "print(re)"
      ],
      "metadata": {
        "id": "WxcHZcoj0FPi",
        "colab": {
          "base_uri": "https://localhost:8080/"
        },
        "outputId": "8e44df3e-95fb-493c-f38e-8ea90fd299e4"
      },
      "execution_count": null,
      "outputs": [
        {
          "output_type": "stream",
          "name": "stdout",
          "text": [
            "[[ 20  21  22  23  45]\n",
            " [ 24  25  26  27  54]\n",
            " [ 28  29  30  31  65]\n",
            " [324 245 355 331 685]\n",
            " [328 245 355 331 456]]\n"
          ]
        }
      ]
    },
    {
      "cell_type": "code",
      "source": [
        "z= np.sort(e)\n",
        "z"
      ],
      "metadata": {
        "colab": {
          "base_uri": "https://localhost:8080/"
        },
        "id": "LLeMeUwW1lbe",
        "outputId": "254e22fe-f4e9-4888-fe43-b9d1b042c426"
      },
      "execution_count": null,
      "outputs": [
        {
          "output_type": "execute_result",
          "data": {
            "text/plain": [
              "array([[ 20,  21,  22,  23,  45],\n",
              "       [ 24,  25,  26,  27,  54],\n",
              "       [ 28,  29,  30,  31,  65],\n",
              "       [245, 324, 331, 355, 685],\n",
              "       [245, 328, 331, 355, 456]])"
            ]
          },
          "metadata": {},
          "execution_count": 35
        }
      ]
    },
    {
      "cell_type": "code",
      "source": [
        "e.min()"
      ],
      "metadata": {
        "colab": {
          "base_uri": "https://localhost:8080/"
        },
        "id": "Tz3r5y7R1Jr_",
        "outputId": "1c9939bb-e072-4d4d-c1dc-007b3b55f866"
      },
      "execution_count": null,
      "outputs": [
        {
          "output_type": "execute_result",
          "data": {
            "text/plain": [
              "20"
            ]
          },
          "metadata": {},
          "execution_count": 30
        }
      ]
    },
    {
      "cell_type": "code",
      "source": [
        "e.max()"
      ],
      "metadata": {
        "colab": {
          "base_uri": "https://localhost:8080/"
        },
        "id": "75e_YsmN1Kdy",
        "outputId": "882f575a-5912-4855-dfbf-734c045a8e1b"
      },
      "execution_count": null,
      "outputs": [
        {
          "output_type": "execute_result",
          "data": {
            "text/plain": [
              "685"
            ]
          },
          "metadata": {},
          "execution_count": 31
        }
      ]
    }
  ]
}